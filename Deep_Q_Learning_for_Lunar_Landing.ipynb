{
  "cells": [
    {
      "cell_type": "markdown",
      "metadata": {
        "id": "LbZcI9ZXHl3a"
      },
      "source": [
        "# Deep Q-Learning for Lunar Landing"
      ]
    },
    {
      "cell_type": "markdown",
      "metadata": {
        "id": "E8yPRjteXgPb"
      },
      "source": [
        "## Part 0 - Installing the required packages and importing the libraries"
      ]
    },
    {
      "cell_type": "markdown",
      "metadata": {
        "id": "slEm5teGWjWU"
      },
      "source": [
        "### Installing Gymnasium"
      ]
    },
    {
      "cell_type": "code",
      "execution_count": 1,
      "metadata": {
        "colab": {
          "base_uri": "https://localhost:8080/"
        },
        "id": "dbnq3XpoKa_7",
        "outputId": "3d9a16d0-4b58-4eda-c1d5-3324701c63a6"
      },
      "outputs": [
        {
          "output_type": "stream",
          "name": "stdout",
          "text": [
            "Requirement already satisfied: gymnasium in /usr/local/lib/python3.12/dist-packages (1.2.0)\n",
            "Requirement already satisfied: numpy>=1.21.0 in /usr/local/lib/python3.12/dist-packages (from gymnasium) (2.0.2)\n",
            "Requirement already satisfied: cloudpickle>=1.2.0 in /usr/local/lib/python3.12/dist-packages (from gymnasium) (3.1.1)\n",
            "Requirement already satisfied: typing-extensions>=4.3.0 in /usr/local/lib/python3.12/dist-packages (from gymnasium) (4.14.1)\n",
            "Requirement already satisfied: farama-notifications>=0.0.1 in /usr/local/lib/python3.12/dist-packages (from gymnasium) (0.0.4)\n",
            "Requirement already satisfied: gymnasium[accept-rom-license,atari] in /usr/local/lib/python3.12/dist-packages (1.2.0)\n",
            "\u001b[33mWARNING: gymnasium 1.2.0 does not provide the extra 'accept-rom-license'\u001b[0m\u001b[33m\n",
            "\u001b[0mRequirement already satisfied: numpy>=1.21.0 in /usr/local/lib/python3.12/dist-packages (from gymnasium[accept-rom-license,atari]) (2.0.2)\n",
            "Requirement already satisfied: cloudpickle>=1.2.0 in /usr/local/lib/python3.12/dist-packages (from gymnasium[accept-rom-license,atari]) (3.1.1)\n",
            "Requirement already satisfied: typing-extensions>=4.3.0 in /usr/local/lib/python3.12/dist-packages (from gymnasium[accept-rom-license,atari]) (4.14.1)\n",
            "Requirement already satisfied: farama-notifications>=0.0.1 in /usr/local/lib/python3.12/dist-packages (from gymnasium[accept-rom-license,atari]) (0.0.4)\n",
            "Requirement already satisfied: ale_py>=0.9 in /usr/local/lib/python3.12/dist-packages (from gymnasium[accept-rom-license,atari]) (0.11.2)\n",
            "Reading package lists... Done\n",
            "Building dependency tree... Done\n",
            "Reading state information... Done\n",
            "The following additional packages will be installed:\n",
            "  swig4.0\n",
            "Suggested packages:\n",
            "  swig-doc swig-examples swig4.0-examples swig4.0-doc\n",
            "The following NEW packages will be installed:\n",
            "  swig swig4.0\n",
            "0 upgraded, 2 newly installed, 0 to remove and 35 not upgraded.\n",
            "Need to get 1,116 kB of archives.\n",
            "After this operation, 5,542 kB of additional disk space will be used.\n",
            "Get:1 http://archive.ubuntu.com/ubuntu jammy/universe amd64 swig4.0 amd64 4.0.2-1ubuntu1 [1,110 kB]\n",
            "Get:2 http://archive.ubuntu.com/ubuntu jammy/universe amd64 swig all 4.0.2-1ubuntu1 [5,632 B]\n",
            "Fetched 1,116 kB in 1s (1,688 kB/s)\n",
            "Selecting previously unselected package swig4.0.\n",
            "(Reading database ... 126371 files and directories currently installed.)\n",
            "Preparing to unpack .../swig4.0_4.0.2-1ubuntu1_amd64.deb ...\n",
            "Unpacking swig4.0 (4.0.2-1ubuntu1) ...\n",
            "Selecting previously unselected package swig.\n",
            "Preparing to unpack .../swig_4.0.2-1ubuntu1_all.deb ...\n",
            "Unpacking swig (4.0.2-1ubuntu1) ...\n",
            "Setting up swig4.0 (4.0.2-1ubuntu1) ...\n",
            "Setting up swig (4.0.2-1ubuntu1) ...\n",
            "Processing triggers for man-db (2.10.2-1) ...\n",
            "Requirement already satisfied: gymnasium[box2d] in /usr/local/lib/python3.12/dist-packages (1.2.0)\n",
            "Requirement already satisfied: numpy>=1.21.0 in /usr/local/lib/python3.12/dist-packages (from gymnasium[box2d]) (2.0.2)\n",
            "Requirement already satisfied: cloudpickle>=1.2.0 in /usr/local/lib/python3.12/dist-packages (from gymnasium[box2d]) (3.1.1)\n",
            "Requirement already satisfied: typing-extensions>=4.3.0 in /usr/local/lib/python3.12/dist-packages (from gymnasium[box2d]) (4.14.1)\n",
            "Requirement already satisfied: farama-notifications>=0.0.1 in /usr/local/lib/python3.12/dist-packages (from gymnasium[box2d]) (0.0.4)\n",
            "Collecting box2d-py==2.3.5 (from gymnasium[box2d])\n",
            "  Downloading box2d-py-2.3.5.tar.gz (374 kB)\n",
            "\u001b[2K     \u001b[90m━━━━━━━━━━━━━━━━━━━━━━━━━━━━━━━━━━━━━━\u001b[0m \u001b[32m374.4/374.4 kB\u001b[0m \u001b[31m10.1 MB/s\u001b[0m eta \u001b[36m0:00:00\u001b[0m\n",
            "\u001b[?25h  Preparing metadata (setup.py) ... \u001b[?25l\u001b[?25hdone\n",
            "Requirement already satisfied: pygame>=2.1.3 in /usr/local/lib/python3.12/dist-packages (from gymnasium[box2d]) (2.6.1)\n",
            "Collecting swig==4.* (from gymnasium[box2d])\n",
            "  Downloading swig-4.3.1-py3-none-manylinux_2_12_x86_64.manylinux2010_x86_64.whl.metadata (3.5 kB)\n",
            "Downloading swig-4.3.1-py3-none-manylinux_2_12_x86_64.manylinux2010_x86_64.whl (1.9 MB)\n",
            "\u001b[2K   \u001b[90m━━━━━━━━━━━━━━━━━━━━━━━━━━━━━━━━━━━━━━━━\u001b[0m \u001b[32m1.9/1.9 MB\u001b[0m \u001b[31m60.5 MB/s\u001b[0m eta \u001b[36m0:00:00\u001b[0m\n",
            "\u001b[?25hBuilding wheels for collected packages: box2d-py\n",
            "  Building wheel for box2d-py (setup.py) ... \u001b[?25l\u001b[?25hdone\n",
            "  Created wheel for box2d-py: filename=box2d_py-2.3.5-cp312-cp312-linux_x86_64.whl size=2381978 sha256=247e7671a6195f1220cad70ce8472d0422a619709f20718c6f09e735c8c29eb7\n",
            "  Stored in directory: /root/.cache/pip/wheels/2a/e9/60/774da0bcd07f7dc7761a8590fa2d065e4069568e78dcdc3318\n",
            "Successfully built box2d-py\n",
            "Installing collected packages: swig, box2d-py\n",
            "Successfully installed box2d-py-2.3.5 swig-4.3.1\n"
          ]
        }
      ],
      "source": [
        "# This will install gymnasium ka attari environment\n",
        "!pip install gymnasium\n",
        "!pip install \"gymnasium[atari, accept-rom-license]\"\n",
        "!apt-get install -y swig\n",
        "!pip install gymnasium[box2d]"
      ]
    },
    {
      "cell_type": "markdown",
      "metadata": {
        "id": "brqiMN3UW9T9"
      },
      "source": [
        "### Importing the libraries"
      ]
    },
    {
      "cell_type": "code",
      "execution_count": 2,
      "metadata": {
        "id": "mZaKXP_aMl9O"
      },
      "outputs": [],
      "source": [
        "# this is for operating systems\n",
        "import os\n",
        "# this is for generating random numbers\n",
        "import random\n",
        "import numpy as np\n",
        "import torch\n",
        "# nn is the neural Network module from the torch torch.library\n",
        "import torch.nn as nn\n",
        "# optim is optimiser module from the torch torch.library\n",
        "import torch.optim as optim\n",
        "import torch.nn.functional as F\n",
        "# autograd is used for stochastic gradient descent from the torch torch.library\n",
        "import torch.autograd as autograd\n",
        "from torch.autograd import Variable\n",
        "from collections import deque, namedtuple"
      ]
    },
    {
      "cell_type": "markdown",
      "metadata": {
        "id": "EzlDKXvkXzGI"
      },
      "source": [
        "## Part 1 - Building the AI"
      ]
    },
    {
      "cell_type": "markdown",
      "metadata": {
        "id": "UtG6Zc83YYy3"
      },
      "source": [
        "### Creating the architecture of the Neural Network"
      ]
    },
    {
      "cell_type": "code",
      "execution_count": 3,
      "metadata": {
        "id": "wKRJGNgoXANl"
      },
      "outputs": [],
      "source": [
        "# we create a class which is the brain of the ai and we inherit a nn(neural network module) from which, we are\n",
        "# going to call a class named Module(from which, we will inherit all the features of the class)\n",
        "class Network(nn.Module):\n",
        "  # state_size is the number of imputs in state(8-imentional in this case of lunar landing)\n",
        "  # action_size is the number of actions that can be taken(4: no,left,right,same_direction)\n",
        "  # seed is used for randomness(set as 42 as of now)\n",
        "  def __init__(self, state_size, action_size,seed=42):\n",
        "    super(Network,self).__init__()\n",
        "    self.seed=torch.manual_seed(seed)\n",
        "    # now, we will be building connections b/w input layer and fully connected layer\n",
        "    self.fc1 = nn.Linear(state_size, 64)\n",
        "    self.fc2 = nn.Linear(64, 64)\n",
        "    # action_size is the number of neurons in the output layer and jo phle likha hai, vo input layer ka hai\n",
        "    self.fc3 = nn.Linear(64, action_size)\n",
        "\n",
        "  # now next function will fully propagate the signal from the input layer to the output layer\n",
        "  def forward(self, state):\n",
        "    x=self.fc1(state)\n",
        "    # update the x by rectifier activation function(relu)(to activate the signal).\n",
        "    # F is the shortcut we created while importing libraries(import torch.nn.functional as F)\n",
        "    # F.relu(x) applies the ReLU activation function:\n",
        "    # ReLU(x)=max(0,x)\n",
        "    # This introduces non-linearity, so the model can learn more complex relationships.\n",
        "    x = F.relu(x)\n",
        "    # bracket ke andar x rakha hai, as it will take input from the first fully connected layer.\n",
        "    x = self.fc2(x)\n",
        "    x = F.relu(x)\n",
        "    return self.fc3(x)"
      ]
    },
    {
      "cell_type": "markdown",
      "metadata": {
        "id": "UxVrBnFWZKb1"
      },
      "source": [
        "## Part 2 - Training the AI"
      ]
    },
    {
      "cell_type": "markdown",
      "metadata": {
        "id": "T364fz9qZb2j"
      },
      "source": [
        "### Setting up the environment"
      ]
    },
    {
      "cell_type": "code",
      "execution_count": 4,
      "metadata": {
        "colab": {
          "base_uri": "https://localhost:8080/"
        },
        "id": "BmcXfSU6hPLO",
        "outputId": "0a2f3089-96e2-4e2f-a099-44b95856aeb4"
      },
      "outputs": [
        {
          "output_type": "stream",
          "name": "stdout",
          "text": [
            "State shape:  (8,)\n",
            "State size:  8\n",
            "Number of actions:  4\n"
          ]
        }
      ],
      "source": [
        "import gymnasium as gym\n",
        "env = gym.make('LunarLander-v3')#put the name of the environment('LunarLander-v3')\n",
        "# Creates an instance of the Lunar Lander environment (discrete-action version).\n",
        "# env is now your simulator: you can reset(), step(), and render() it.\n",
        "state_shape = env.observation_space.shape\n",
        "state_size= env.observation_space.shape[0]# take 1st index\n",
        "number_actions=env.action_space.n\n",
        "print('State shape: ', state_shape)#will give a vector of 8 elements\n",
        "print('State size: ', state_size)#8\n",
        "print('Number of actions: ', number_actions)#4(no,left,right,same_direction)"
      ]
    },
    {
      "cell_type": "markdown",
      "metadata": {
        "id": "c_dZmOIvZgj-"
      },
      "source": [
        "### Initializing the hyperparameters"
      ]
    },
    {
      "cell_type": "code",
      "execution_count": 5,
      "metadata": {
        "id": "FRJgs5E1_7js"
      },
      "outputs": [],
      "source": [
        "learning_rate=5e-4 #this value is choosen after a lot of experimentation\n",
        "minibatch_size = 100 #the number of observations used in one step of the training to update model parameters\n",
        "discount_factor = 0.99 #also called gamma(close to 1 as, it will consider the future rewards in its accumulation of total reward) and we will gwt best results if we consider future rewards.\n",
        "replay_buffer_size = int(1e5) #the memory size of the ai(1e5 is 100,000)\n",
        "interpolation_parameter = 1e-3 #also called tau(1e-3 is 10^-3 or 0.001)"
      ]
    },
    {
      "cell_type": "markdown",
      "metadata": {
        "id": "8hD_Vs-bYnip"
      },
      "source": [
        "### Implementing Experience Replay"
      ]
    },
    {
      "cell_type": "code",
      "execution_count": 6,
      "metadata": {
        "id": "FVOp-y2_FVUD"
      },
      "outputs": [],
      "source": [
        "#This class will implement experience replay and object means that we are inheriting nothing in this class\n",
        "class ReplayMemory(object):\n",
        "  def __init__(self,capacity):\n",
        "    self.device = torch.device(\"cuda:0\" if torch.cuda.is_available() else \"cpu\") # cuda:0 is for checking ki cpu present hai ya nhi. This line is basically to make code run faster through GPU\n",
        "    self.capacity = capacity # by writing capacity, we initialise it to max. size of the memory buffer\n",
        "    self.memory = []\n",
        "\n",
        "  def push(self, event):\n",
        "    # to add the events in the memory list\n",
        "    self.memory.append(event)\n",
        "    if len(self.memory) > self.capacity:\n",
        "      # if size exceeds, delete the oldest event(0th index wala event)\n",
        "      del self.memory[0]\n",
        "\n",
        "   # sample will randomly select experiences from the memory buffer\n",
        "  def sample(self, batch_size):\n",
        "    experiences = random.sample(self.memory, k = batch_size)\n",
        "    # now we will one by one extract all the elements of the sampled experience and stack them one over the other\n",
        "    # we use vstack which will stack the sampled experiences together\n",
        "    # then we use one liner for loop inside\n",
        "    # but only[np.vstack([e[0] for e in experiences if e is not None])]is not enought, we will convert them to pytorch tensors as: torch.from_numpy\n",
        "    # and to(self.device) is is to maintain it in cpu or gpu\n",
        "    states = torch.from_numpy(np.vstack([e[0] for e in experiences if e is not None])).float().to(self.device)\n",
        "    actions = torch.from_numpy(np.vstack([e[1] for e in experiences if e is not None])).long().to(self.device)\n",
        "    rewards = torch.from_numpy(np.vstack([e[2] for e in experiences if e is not None])).float().to(self.device)\n",
        "    next_states = torch.from_numpy(np.vstack([e[3] for e in experiences if e is not None])).float().to(self.device)\n",
        "    # astype() is to convert the values into a diff datatype and np.uint8 will convert it into bool before setting it into float\n",
        "    dones = torch.from_numpy(np.vstack([e[4] for e in experiences if e is not None]).astype(np.uint8)).float().to(self.device)\n",
        "    return states, next_states, actions, rewards, dones"
      ]
    },
    {
      "cell_type": "markdown",
      "metadata": {
        "id": "JmEkbFbUY6Jt"
      },
      "source": [
        "### Implementing the DQN class"
      ]
    },
    {
      "cell_type": "code",
      "execution_count": 7,
      "metadata": {
        "id": "iokmjTKJ9E3U"
      },
      "outputs": [],
      "source": [
        "# we created an agent class which interacts with the space env. using a deep q network\n",
        "class Agent():\n",
        "\n",
        "  def __init__(self, state_size, action_size):\n",
        "    self.device = torch.device(\"cuda:0\" if torch.cuda.is_available() else \"cpu\")\n",
        "    self.state_size = state_size\n",
        "    self.action_size = action_size\n",
        "    # thsi will select the actions\n",
        "    self.local_qnetwork = Network(state_size, action_size).to(self.device)\n",
        "    # this will calculate the target values\n",
        "    self.target_qnetwork = Network(state_size, action_size).to(self.device)\n",
        "    self.optimizer = optim.Adam(self.local_qnetwork.parameters(), lr = learning_rate)\n",
        "    self.memory = ReplayMemory(replay_buffer_size)\n",
        "    # t_step is the time step which means in which moment, we are going to learn and update parameters\n",
        "    self.t_step = 0\n",
        "\n",
        "  def step(self, state, action, reward, next_state, done):\n",
        "    # store the experiences in the replay memory\n",
        "    self.memory.push((state, action, reward, next_state, done))\n",
        "    # modulo with 4 as, we want model to learn every 4 steps. So, increment and reset every 4 steps\n",
        "    self.t_step = (self.t_step + 1) % 4\n",
        "    # to check whether self.t_step reached 0 or has reset, we do this\n",
        "    if self.t_step == 0:\n",
        "      if len(self.memory.memory) > minibatch_size:\n",
        "        # we set this (minibatch_size) 100 above\n",
        "        experiences = self.memory.sample(100)\n",
        "        self.learn(experiences, discount_factor)\n",
        "\n",
        "# this act will select an action based on the given state for a certain epsilon in the environment\n",
        "# we are taking here, epsilon greedy action selection process\n",
        "  def act(self, state, epsilon = 0.):\n",
        "    # covert in tensor of torch\n",
        "    # In PyTorch, .unsqueeze(dim) is used to add a new dimension at the position dim.\n",
        "    state = torch.from_numpy(state).float().unsqueeze(0).to(self.device)\n",
        "    # to set our local q network in eval mode\n",
        "    self.local_qnetwork.eval()\n",
        "    # to check that we are not in training mode but in inference mode and no_grad() ensures that any gardient computation is disabled\n",
        "    with torch.no_grad():\n",
        "      action_values = self.local_qnetwork(state)\n",
        "      # train() ensures that we come back to training mode\n",
        "    self.local_qnetwork.train()\n",
        "    if random.random() > epsilon:\n",
        "      # this will select the action with highest q value\n",
        "      return np.argmax(action_values.cpu().data.numpy())\n",
        "    else:\n",
        "      # if lesser, then we will return a random action\n",
        "      return random.choice(np.arange(self.action_size))\n",
        "\n",
        "# this method will update the agent's q-value based on the sample experiences\n",
        "  def learn(self, experiences, discount_factor):\n",
        "    # initialised or unpacked the variables\n",
        "    # experiences here is typically a tuple of tensors/arrays, containing batched data.\n",
        "    # Suppose replay buffer returned this batch of 2 experiences:\n",
        "#     experiences = (\n",
        "#   [[1,2,3], [4,5,6]],   # states\n",
        "#   [[2,3,4], [5,6,7]],   # next_states\n",
        "#   [0, 1],               # actions\n",
        "#   [10, -5],             # rewards\n",
        "#   [False, True]  )       # dones\n",
        "    states, next_states, actions, rewards, dones = experiences\n",
        "    # .detach() prevents gradients flowing into the target network (we don’t train it via this path).\n",
        "    # .max(1) takes the max over actions (dim=1)\n",
        "  #   Returns (values, indices):\n",
        "  #     values: shape [B], the best Q per next_state.\n",
        "  #     indices: shape [B], argmax actions (ignored here).\n",
        "  #  [0] picks the values.\n",
        "    next_q_targets = self.target_qnetwork(next_states).detach().max(1)[0].unsqueeze(1)\n",
        "    # you have to learn this fromula, its very useful ahead too\n",
        "    q_targets = rewards + discount_factor * next_q_targets * (1 - dones)\n",
        "    q_expected = self.local_qnetwork(states).gather(1, actions)\n",
        "    # mse means the maen sq. error loss b/w actual values and the predicted values\n",
        "    loss = F.mse_loss(q_expected, q_targets)\n",
        "    # Clears accumulated gradients from the previous step (PyTorch accumulates by default).\n",
        "    self.optimizer.zero_grad()\n",
        "    # to backpropagate this loss\n",
        "    loss.backward()\n",
        "    # performs a single optimisation step to update the model parameters\n",
        "    self.optimizer.step()\n",
        "    self.soft_update(self.local_qnetwork, self.target_qnetwork, interpolation_parameter)\n",
        "\n",
        "  def soft_update(self, local_model, target_model, interpolation_parameter):\n",
        "    # like i,j these are target_param, local_param and to get the others at same time we use zip(,)\n",
        "    for target_param, local_param in zip(target_model.parameters(), local_model.parameters()):\n",
        "      target_param.data.copy_(interpolation_parameter * local_param.data + (1.0 - interpolation_parameter) * target_param.data)"
      ]
    },
    {
      "cell_type": "markdown",
      "metadata": {
        "id": "o1tZElccZmf6"
      },
      "source": [
        "### Initializing the DQN agent"
      ]
    },
    {
      "cell_type": "code",
      "execution_count": 8,
      "metadata": {
        "id": "cGbpJJvLjmIw"
      },
      "outputs": [],
      "source": [
        "# we made an object\n",
        "agent = Agent(state_size, number_actions)"
      ]
    },
    {
      "cell_type": "markdown",
      "metadata": {
        "id": "E8v0PtUfaVQp"
      },
      "source": [
        "### Training the DQN agent"
      ]
    },
    {
      "cell_type": "code",
      "execution_count": 9,
      "metadata": {
        "colab": {
          "base_uri": "https://localhost:8080/"
        },
        "id": "2ybZW6Im-Bwj",
        "outputId": "4831b058-a22a-4765-87b5-50b2a8473f92"
      },
      "outputs": [
        {
          "output_type": "stream",
          "name": "stdout",
          "text": [
            "Episode 100\tAverage Score: -159.77\n",
            "Episode 200\tAverage Score: -108.04\n",
            "Episode 300\tAverage Score: -65.17\n",
            "Episode 400\tAverage Score: -4.74\n",
            "Episode 500\tAverage Score: 93.78\n",
            "Episode 600\tAverage Score: 169.19\n",
            "Episode 649\tAverage Score: 200.16\n",
            "Environment solved in 549 episodes!\tAverage Score: 200.16\n"
          ]
        }
      ],
      "source": [
        "# max no. of episodes on which we want to train our ai\n",
        "number_episodes = 2000\n",
        "# we dont want our ai to get stuck in the env. so we keep a max step count for each episode\n",
        "maximum_number_timesteps_per_episode = 1000\n",
        "# 1st epsilon value\n",
        "epsilon_starting_value  = 1.0\n",
        "# then we let it decay\n",
        "epsilon_ending_value  = 0.01\n",
        "# decay by rhis decrement\n",
        "epsilon_decay_value  = 0.995\n",
        "epsilon = epsilon_starting_value\n",
        "# save the 100 episodes in doubly ended queue\n",
        "scores_on_100_episodes = deque(maxlen = 100)\n",
        "# now we will code a little for its intelligence\n",
        "for episode in range(1, number_episodes + 1):\n",
        "  # this underscore is used to discard the information\n",
        "  state, _ = env.reset()\n",
        "  score = 0\n",
        "  # this loop is for timesteps\n",
        "  for t in range(maximum_number_timesteps_per_episode):\n",
        "    action = agent.act(state, epsilon)\n",
        "    # this underscore is used to discard the information\n",
        "    next_state, reward, done, _, _ = env.step(action)\n",
        "    agent.step(state, action, reward, next_state, done)\n",
        "    state = next_state\n",
        "    score += reward\n",
        "    if done:\n",
        "      break\n",
        "  scores_on_100_episodes.append(score)\n",
        "  epsilon = max(epsilon_ending_value, epsilon_decay_value * epsilon)\n",
        "# we will do a dynamic print here\n",
        "# episode by episode, we will see the cumulative reward evolving over the episodes with overwriting effect(puarni wali hata denge). We will keep the average rewards every 100 episodes.\n",
        "  # this{:.2f} is for printing the average score in float with 2 decimals places .2f\n",
        "#  to create the overwriting effect,we do \\r(for carriage return) to start printing from the start of the line and end = \"\"\n",
        "  print('\\rEpisode {}\\tAverage Score: {:.2f}'.format(episode, np.mean(scores_on_100_episodes)), end = \"\")\n",
        "  # to check whether we are at 100 episodes or not. As it will print mean/avg of every 100 episodes in next line and if not, then overwrite again and again\n",
        "  if episode % 100 == 0:\n",
        "    print('\\rEpisode {}\\tAverage Score: {:.2f}'.format(episode, np.mean(scores_on_100_episodes)))\n",
        "  # see in gymnasium condition that if > 200, then we win. so print\n",
        "  if np.mean(scores_on_100_episodes) >= 200.0:\n",
        "    # (episode - 100 this as we want for 100 episodes calculation only\n",
        "    # this will show 100 minus karne ke baad when it wins as we we did -100 here.\n",
        "    print('\\nEnvironment solved in {:d} episodes!\\tAverage Score: {:.2f}'.format(episode - 100, np.mean(scores_on_100_episodes)))\n",
        "    # 'checkpoint.pth' we save all this in this file\n",
        "    torch.save(agent.local_qnetwork.state_dict(), 'checkpoint.pth')\n",
        "    break"
      ]
    },
    {
      "cell_type": "markdown",
      "metadata": {
        "id": "O8CNwdOTcCoP"
      },
      "source": [
        "## Part 3 - Visualizing the results"
      ]
    },
    {
      "cell_type": "code",
      "execution_count": 10,
      "metadata": {
        "colab": {
          "base_uri": "https://localhost:8080/",
          "height": 459
        },
        "id": "cb9nVvU2Okhk",
        "outputId": "fbc0387a-cda9-4082-9926-4ae904e6f68d"
      },
      "outputs": [
        {
          "output_type": "stream",
          "name": "stderr",
          "text": [
            "WARNING:imageio_ffmpeg:IMAGEIO FFMPEG_WRITER WARNING: input image is not divisible by macro_block_size=16, resizing from (600, 400) to (608, 400) to ensure video compatibility with most codecs and players. To prevent resizing, make your input image divisible by the macro_block_size or set the macro_block_size to 1 (risking incompatibility).\n"
          ]
        },
        {
          "output_type": "display_data",
          "data": {
            "text/plain": [
              "<IPython.core.display.HTML object>"
            ],
            "text/html": [
              "<video alt=\"test\" autoplay\n",
              "                loop controls style=\"height: 400px;\">\n",
              "                <source src=\"data:video/mp4;base64,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\" type=\"video/mp4\" />\n",
              "             </video>"
            ]
          },
          "metadata": {}
        }
      ],
      "source": [
        "# we dont need to implement this and and its just an ai code to run the video\n",
        "import glob\n",
        "import io\n",
        "import base64\n",
        "import imageio\n",
        "from IPython.display import HTML, display\n",
        "\n",
        "def show_video_of_model(agent, env_name):\n",
        "    env = gym.make(env_name, render_mode='rgb_array')\n",
        "    state, _ = env.reset()\n",
        "    done = False\n",
        "    frames = []\n",
        "    while not done:\n",
        "        frame = env.render()\n",
        "        frames.append(frame)\n",
        "        action = agent.act(state)\n",
        "        state, reward, done, _, _ = env.step(action.item())\n",
        "    env.close()\n",
        "    imageio.mimsave('video.mp4', frames, fps=30)\n",
        "\n",
        "show_video_of_model(agent, 'LunarLander-v3')\n",
        "\n",
        "def show_video():\n",
        "    mp4list = glob.glob('*.mp4')\n",
        "    if len(mp4list) > 0:\n",
        "        mp4 = mp4list[0]\n",
        "        video = io.open(mp4, 'r+b').read()\n",
        "        encoded = base64.b64encode(video)\n",
        "        display(HTML(data='''<video alt=\"test\" autoplay\n",
        "                loop controls style=\"height: 400px;\">\n",
        "                <source src=\"data:video/mp4;base64,{0}\" type=\"video/mp4\" />\n",
        "             </video>'''.format(encoded.decode('ascii'))))\n",
        "    else:\n",
        "        print(\"Could not find video\")\n",
        "\n",
        "show_video()"
      ]
    }
  ],
  "metadata": {
    "colab": {
      "provenance": []
    },
    "kernelspec": {
      "display_name": "Python 3",
      "name": "python3"
    },
    "language_info": {
      "name": "python"
    }
  },
  "nbformat": 4,
  "nbformat_minor": 0
}